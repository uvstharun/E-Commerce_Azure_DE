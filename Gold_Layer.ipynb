{
 "cells": [
  {
   "cell_type": "code",
   "execution_count": 0,
   "metadata": {
    "application/vnd.databricks.v1+cell": {
     "cellMetadata": {
      "byteLimit": 2048000,
      "rowLimit": 10000
     },
     "inputWidgets": {},
     "nuid": "ba22e32c-c582-496e-8511-885ac3eb7cda",
     "showTitle": false,
     "tableResultSettingsMap": {},
     "title": ""
    }
   },
   "outputs": [],
   "source": [
    "from pyspark.sql import SparkSession\n",
    "from pyspark.sql.functions import *\n",
    "from pyspark.sql.types import *"
   ]
  },
  {
   "cell_type": "code",
   "execution_count": 0,
   "metadata": {
    "application/vnd.databricks.v1+cell": {
     "cellMetadata": {
      "byteLimit": 2048000,
      "rowLimit": 10000
     },
     "inputWidgets": {},
     "nuid": "e082e3fb-4b03-4f60-96fe-54a434758ddb",
     "showTitle": false,
     "tableResultSettingsMap": {},
     "title": ""
    }
   },
   "outputs": [],
   "source": [
    "spark = SparkSession.builder.appName(\"GoldLayerCreation\").getOrCreate()"
   ]
  },
  {
   "cell_type": "code",
   "execution_count": 0,
   "metadata": {
    "application/vnd.databricks.v1+cell": {
     "cellMetadata": {
      "byteLimit": 2048000,
      "rowLimit": 10000
     },
     "inputWidgets": {},
     "nuid": "aae53174-d129-46f3-bff9-29c06dd7e008",
     "showTitle": false,
     "tableResultSettingsMap": {},
     "title": ""
    }
   },
   "outputs": [],
   "source": [
    "#Reading tables from silver layer\n",
    "silver_sellers = spark.read.format(\"delta\").load(\"/mnt/delta/tables/silver/sellers\")\n",
    "silver_buyers = spark.read.format(\"delta\").load(\"/mnt/delta/tables/silver/buyers\")\n",
    "silver_users = spark.read.format(\"delta\").load(\"/mnt/delta/tables/silver/users\")\n",
    "silver_countries = spark.read.format(\"delta\").load(\"/mnt/delta/tables/silver/countries\")\n",
    "\n"
   ]
  },
  {
   "cell_type": "code",
   "execution_count": 0,
   "metadata": {
    "application/vnd.databricks.v1+cell": {
     "cellMetadata": {
      "byteLimit": 2048000,
      "rowLimit": 10000
     },
     "inputWidgets": {},
     "nuid": "8ca2412f-060c-4908-a10f-b0bb53422ba6",
     "showTitle": false,
     "tableResultSettingsMap": {},
     "title": ""
    }
   },
   "outputs": [
    {
     "output_type": "stream",
     "name": "stdout",
     "output_type": "stream",
     "text": [
      "root\n |-- identifierHash: string (nullable = true)\n |-- type: string (nullable = true)\n |-- countrycode: string (nullable = true)\n |-- country: string (nullable = true)\n |-- language: string (nullable = true)\n |-- socialnbfollowers: integer (nullable = true)\n |-- socialnbfollows: integer (nullable = true)\n |-- socialProductsLiked: string (nullable = true)\n |-- productsListed: string (nullable = true)\n |-- productsSold: string (nullable = true)\n |-- productspassrate: decimal(10,2) (nullable = true)\n |-- productsWished: string (nullable = true)\n |-- productsBought: string (nullable = true)\n |-- gender: string (nullable = true)\n |-- civilityGenderId: string (nullable = true)\n |-- civilityTitle: string (nullable = true)\n |-- hasprofilepicture: boolean (nullable = true)\n |-- seniority: string (nullable = true)\n |-- seniorityasmonths: decimal(10,2) (nullable = true)\n |-- seniorityasyears: decimal(10,2) (nullable = true)\n |-- websiteLongevity: string (nullable = true)\n |-- hasanyapp: boolean (nullable = true)\n |-- hasandroidapp: boolean (nullable = true)\n |-- hasiosapp: boolean (nullable = true)\n |-- daysSinceLastLogin: string (nullable = true)\n |-- language_full: string (nullable = true)\n |-- civilitytitle_clean: string (nullable = true)\n |-- years_since_last_login: double (nullable = true)\n |-- account_age_years: double (nullable = true)\n |-- user_descriptior: string (nullable = true)\n |-- flag_long_title: boolean (nullable = true)\n\n"
     ]
    }
   ],
   "source": [
    "silver_users.printSchema()"
   ]
  },
  {
   "cell_type": "code",
   "execution_count": 0,
   "metadata": {
    "application/vnd.databricks.v1+cell": {
     "cellMetadata": {
      "byteLimit": 2048000,
      "rowLimit": 10000
     },
     "inputWidgets": {},
     "nuid": "b2cb714e-9831-4d3f-8eae-eb9936c3cb5b",
     "showTitle": false,
     "tableResultSettingsMap": {},
     "title": ""
    }
   },
   "outputs": [],
   "source": [
    "# Perform the join operations\n",
    "comprehensive_user_table = silver_users \\\n",
    "    .join(silver_countries, [\"country\"], \"outer\") \\\n",
    "    .join(silver_buyers, [\"country\"], \"outer\") \\\n",
    "    .join(silver_sellers, [\"country\"], \"outer\")\n",
    "\n",
    "# Select and alias columns from each dataframe to ensure uniqueness\n",
    "comprehensive_user_table = comprehensive_user_table.select(\n",
    "    silver_users[\"country\"].alias(\"Country\"),\n",
    "    # From silver_users\n",
    "    silver_users[\"productsSold\"].alias(\"Users_productsSold\"),\n",
    "    silver_users[\"productsWished\"].alias(\"Users_productsWished\"),\n",
    "    silver_users[\"account_age_years\"].alias(\"Users_account_age_years\"),\n",
    "    silver_users[\"account_age_years\"].alias(\"Users_account_age_group\"),\n",
    "    silver_users[\"hasanyapp\"].alias(\"Users_hasanyapp\"),\n",
    "    silver_users[\"socialnbfollowers\"].alias(\"Users_socialnbfollowers\"),\n",
    "    silver_users[\"flag_long_title\"].alias(\"Users_flag_long_title\"),\n",
    "\n",
    "    \n",
    "    # From silver_countries\n",
    "    silver_countries[\"sellers\"].alias(\"Countries_Sellers\"),\n",
    "    silver_countries[\"topsellers\"].alias(\"Countries_TopSellers\"),\n",
    "    silver_countries[\"femalesellers\"].alias(\"Countries_FemaleSellers\"),\n",
    "    silver_countries[\"malesellers\"].alias(\"Countries_MaleSellers\"),\n",
    "    silver_countries[\"topfemalesellers\"].alias(\"Countries_TopFemaleSellers\"),\n",
    "    silver_countries[\"topmalesellers\"].alias(\"Countries_TopMaleSellers\"),\n",
    "   \n",
    "    \n",
    "    # From silver_buyers\n",
    "    silver_buyers[\"buyers\"].alias(\"Buyers_Total\"),\n",
    "    silver_buyers[\"topbuyers\"].alias(\"Buyers_Top\"),\n",
    "    silver_buyers[\"femalebuyers\"].alias(\"Buyers_Female\"),\n",
    "    silver_buyers[\"malebuyers\"].alias(\"Buyers_Male\"),\n",
    "    silver_buyers[\"topfemalebuyers\"].alias(\"Buyers_TopFemale\"),\n",
    "    silver_buyers[\"topmalebuyers\"].alias(\"Buyers_TopMale\"),\n",
    "   \n",
    "    \n",
    "    # From silver_sellers\n",
    "    silver_sellers[\"nbsellers\"].alias(\"Sellers_Total\"),\n",
    "    silver_sellers[\"sex\"].alias(\"Sellers_Sex\"),\n",
    "    silver_sellers[\"meanproductssold\"].alias(\"Sellers_MeanProductsSold\"),\n",
    "    silver_sellers[\"meanproductslisted\"].alias(\"Sellers_MeanProductsListed\"),\n",
    "\n",
    ")"
   ]
  },
  {
   "cell_type": "code",
   "execution_count": 0,
   "metadata": {
    "application/vnd.databricks.v1+cell": {
     "cellMetadata": {
      "byteLimit": 2048000,
      "rowLimit": 10000
     },
     "inputWidgets": {},
     "nuid": "248b958a-73fd-408a-8015-ce0933865cc7",
     "showTitle": false,
     "tableResultSettingsMap": {},
     "title": ""
    }
   },
   "outputs": [],
   "source": [
    "comprehensive_user_table.write.format(\"delta\")\\\n",
    "                                .mode(\"overwrite\")\\\n",
    "                                .save(\"/mnt/delta/tables/gold/ecom_one_big_table\")"
   ]
  },
  {
   "cell_type": "code",
   "execution_count": 0,
   "metadata": {
    "application/vnd.databricks.v1+cell": {
     "cellMetadata": {},
     "inputWidgets": {},
     "nuid": "8723eddc-805f-47f6-bb7e-7d87b5814857",
     "showTitle": false,
     "tableResultSettingsMap": {},
     "title": ""
    }
   },
   "outputs": [],
   "source": []
  }
 ],
 "metadata": {
  "application/vnd.databricks.v1+notebook": {
   "computePreferences": null,
   "dashboards": [],
   "environmentMetadata": {
    "base_environment": "",
    "client": "1"
   },
   "language": "python",
   "notebookMetadata": {
    "pythonIndentUnit": 4
   },
   "notebookName": "Gold_Layer",
   "widgets": {}
  },
  "language_info": {
   "name": "python"
  }
 },
 "nbformat": 4,
 "nbformat_minor": 0
}