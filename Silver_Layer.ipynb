{
 "cells": [
  {
   "cell_type": "code",
   "execution_count": 0,
   "metadata": {
    "application/vnd.databricks.v1+cell": {
     "cellMetadata": {
      "byteLimit": 2048000,
      "rowLimit": 10000
     },
     "inputWidgets": {},
     "nuid": "54ee1029-00eb-4e07-98e3-1dee7022130e",
     "showTitle": false,
     "tableResultSettingsMap": {},
     "title": ""
    }
   },
   "outputs": [],
   "source": [
    "from pyspark.sql import SparkSession\n",
    "from pyspark.sql.functions import *\n",
    "from pyspark.sql.types import *"
   ]
  },
  {
   "cell_type": "code",
   "execution_count": 0,
   "metadata": {
    "application/vnd.databricks.v1+cell": {
     "cellMetadata": {
      "byteLimit": 2048000,
      "rowLimit": 10000
     },
     "inputWidgets": {},
     "nuid": "370ce6bf-d9bd-4dd9-8543-ffb279c688bb",
     "showTitle": false,
     "tableResultSettingsMap": {},
     "title": ""
    }
   },
   "outputs": [],
   "source": [
    "spark = SparkSession.builder.appName(\"EcommerceDataPipeline\").getOrCreate()"
   ]
  },
  {
   "cell_type": "code",
   "execution_count": 0,
   "metadata": {
    "application/vnd.databricks.v1+cell": {
     "cellMetadata": {
      "byteLimit": 2048000,
      "rowLimit": 10000
     },
     "inputWidgets": {},
     "nuid": "716524df-9a76-43a6-8094-52b0e343878a",
     "showTitle": false,
     "tableResultSettingsMap": {},
     "title": ""
    }
   },
   "outputs": [],
   "source": [
    "##/mnt/delta/tables/bronze/users\n",
    "\n",
    "userDF = spark.read.format('delta')\\\n",
    "    .load('/mnt/delta/tables/bronze/users')\n"
   ]
  },
  {
   "cell_type": "code",
   "execution_count": 0,
   "metadata": {
    "application/vnd.databricks.v1+cell": {
     "cellMetadata": {
      "byteLimit": 2048000,
      "rowLimit": 10000
     },
     "inputWidgets": {},
     "nuid": "b5df4fa2-da94-4c16-8a94-aec8dacee3d9",
     "showTitle": false,
     "tableResultSettingsMap": {},
     "title": ""
    }
   },
   "outputs": [
    {
     "output_type": "stream",
     "name": "stdout",
     "output_type": "stream",
     "text": [
      "+--------------------+----+-----------+----------+--------+-----------------+---------------+-------------------+--------------+------------+----------------+--------------+--------------+------+----------------+-------------+-----------------+---------+-----------------+----------------+----------------+---------+-------------+---------+------------------+\n|      identifierHash|type|countryCode|   country|language|socialNbFollowers|socialNbFollows|socialProductsLiked|productsListed|productsSold|productsPassRate|productsWished|productsBought|gender|civilityGenderId|civilityTitle|hasProfilePicture|seniority|seniorityAsMonths|seniorityAsYears|websiteLongevity|hasAnyApp|hasAndroidApp|hasIosApp|daysSinceLastLogin|\n+--------------------+----+-----------+----------+--------+-----------------+---------------+-------------------+--------------+------------+----------------+--------------+--------------+------+----------------+-------------+-----------------+---------+-----------------+----------------+----------------+---------+-------------+---------+------------------+\n|-7279641312655250028|user|         us|Etats-Unis|      en|                3|              8|                  0|             0|           0|             0.0|             0|             0|     F|               2|          mrs|             True|     3205|           106.83|             8.9|            NULL|    False|        False|    False|               709|\n|-1456013578740053406|user|         de| Allemagne|      de|                3|              8|                  0|             0|           0|             0.0|             0|             0|     F|               2|          mrs|             True|     3205|           106.83|             8.9|            NULL|    False|        False|    False|               709|\n+--------------------+----+-----------+----------+--------+-----------------+---------------+-------------------+--------------+------------+----------------+--------------+--------------+------+----------------+-------------+-----------------+---------+-----------------+----------------+----------------+---------+-------------+---------+------------------+\nonly showing top 2 rows\n\n"
     ]
    }
   ],
   "source": [
    "userDF.show(2)"
   ]
  },
  {
   "cell_type": "code",
   "execution_count": 0,
   "metadata": {
    "application/vnd.databricks.v1+cell": {
     "cellMetadata": {
      "byteLimit": 2048000,
      "rowLimit": 10000
     },
     "inputWidgets": {},
     "nuid": "8846e669-e309-439a-9717-c76621cc44bc",
     "showTitle": false,
     "tableResultSettingsMap": {},
     "title": ""
    }
   },
   "outputs": [],
   "source": [
    "#Normalize the country codes to uppercase\n",
    "userDF = userDF.withColumn(\"countrycode\", upper(col(\"countrycode\")))"
   ]
  },
  {
   "cell_type": "code",
   "execution_count": 0,
   "metadata": {
    "application/vnd.databricks.v1+cell": {
     "cellMetadata": {
      "byteLimit": 2048000,
      "rowLimit": 10000
     },
     "inputWidgets": {},
     "nuid": "3699cbf9-ac28-4f8a-855c-5df801c51213",
     "showTitle": false,
     "tableResultSettingsMap": {},
     "title": ""
    }
   },
   "outputs": [],
   "source": [
    "# Handling multiple languages elegantly with 'expr' and ' case when'\n",
    "# languages column has EN and FR expressions that will be replaced by Engilish and French.\n",
    "userDF = userDF.withColumn('language_full',\n",
    "                           expr( \"CASE WHEN language = 'EN' THEN 'English' \" +\n",
    "                                \"WHEN language = 'FR' THEN 'French' \" +\n",
    "                                \"ELSE 'Other' END\"))"
   ]
  },
  {
   "cell_type": "code",
   "execution_count": 0,
   "metadata": {
    "application/vnd.databricks.v1+cell": {
     "cellMetadata": {
      "byteLimit": 2048000,
      "rowLimit": 10000
     },
     "inputWidgets": {},
     "nuid": "4c8f61fa-c8b8-4502-b3f9-dbb6164c8d34",
     "showTitle": false,
     "tableResultSettingsMap": {},
     "title": ""
    }
   },
   "outputs": [],
   "source": [
    "#Correcting the 'gender' column.\n",
    "\n",
    "userDF = userDF.withColumn('gender',\n",
    "                           when(col('gender').startswith('M'), 'Male')\n",
    "                           .when(col('gender').startswith('F'),'Female')\n",
    "                           .otherwise('Other'))"
   ]
  },
  {
   "cell_type": "code",
   "execution_count": 0,
   "metadata": {
    "application/vnd.databricks.v1+cell": {
     "cellMetadata": {
      "byteLimit": 2048000,
      "rowLimit": 10000
     },
     "inputWidgets": {},
     "nuid": "bc860fc4-6083-4f99-928d-500c3c8591d9",
     "showTitle": false,
     "tableResultSettingsMap": {},
     "title": ""
    }
   },
   "outputs": [],
   "source": [
    "#changing the values of column 'civilitytitle' \n",
    "userDF = userDF.withColumn('civilitytitle_clean',\n",
    "                           regexp_replace('civilitytitle', '(Mme|Ms|Mrs)', 'Ms'))"
   ]
  },
  {
   "cell_type": "code",
   "execution_count": 0,
   "metadata": {
    "application/vnd.databricks.v1+cell": {
     "cellMetadata": {
      "byteLimit": 2048000,
      "rowLimit": 10000
     },
     "inputWidgets": {},
     "nuid": "25dc0261-5304-4344-ba37-85bb9a18e4a1",
     "showTitle": false,
     "tableResultSettingsMap": {},
     "title": ""
    }
   },
   "outputs": [],
   "source": [
    "#Derive new column 'years_since_last_login' from ' dayssincelastlogin'\n",
    "userDF = userDF.withColumn(\"years_since_last_login\", col(\"daysSinceLastLogin\") / 365)"
   ]
  },
  {
   "cell_type": "code",
   "execution_count": 0,
   "metadata": {
    "application/vnd.databricks.v1+cell": {
     "cellMetadata": {
      "byteLimit": 2048000,
      "rowLimit": 10000
     },
     "inputWidgets": {},
     "nuid": "44b24fab-7333-45be-a98e-2eaebf755eda",
     "showTitle": false,
     "tableResultSettingsMap": {},
     "title": ""
    }
   },
   "outputs": [],
   "source": [
    "##calculate age of account in years and categorize into ' account_age_group'\n",
    "\n",
    "userDF = userDF.withColumn(\"account_age_years\", round(col(\"seniority\") / 365,2))\n",
    "user = userDF.withColumn(\"account_age_group\",\n",
    "                          when(col(\"account_age_years\") < 1, \"New\")\n",
    "                          .when((col(\"account_age_years\") >= 1) & (col(\"account_age_years\") < 3),\n",
    "                          \"Intermediate\")\n",
    "                          .otherwise(\"Experienced\"))\n",
    "\n",
    "                         "
   ]
  },
  {
   "cell_type": "code",
   "execution_count": 0,
   "metadata": {
    "application/vnd.databricks.v1+cell": {
     "cellMetadata": {
      "byteLimit": 2048000,
      "rowLimit": 10000
     },
     "inputWidgets": {},
     "nuid": "dcac7ab6-29f5-4a9a-a411-de78fb2c08ac",
     "showTitle": false,
     "tableResultSettingsMap": {},
     "title": ""
    }
   },
   "outputs": [],
   "source": [
    "#add a column with the current year for comparison\n",
    "usersDF = userDF.withColumn(\"current_year\", year(current_date()))"
   ]
  },
  {
   "cell_type": "code",
   "execution_count": 0,
   "metadata": {
    "application/vnd.databricks.v1+cell": {
     "cellMetadata": {
      "byteLimit": 2048000,
      "rowLimit": 10000
     },
     "inputWidgets": {},
     "nuid": "83ec04fd-9e1d-44fc-983c-1a30e717b662",
     "showTitle": false,
     "tableResultSettingsMap": {},
     "title": ""
    }
   },
   "outputs": [],
   "source": [
    "#Creating user description column by combining all the user information \n",
    "\n",
    "userDF = userDF.withColumn('user_descriptior',\n",
    "                           concat(col('gender'), lit(\"_\"),\n",
    "                                  col('countrycode'),lit(\"_\"),\n",
    "                                  expr(\"substring(civilitytitle_clean,1,3)\"), lit(\"_\"),\n",
    "                                  col(\"language_full\")))"
   ]
  },
  {
   "cell_type": "code",
   "execution_count": 0,
   "metadata": {
    "application/vnd.databricks.v1+cell": {
     "cellMetadata": {
      "byteLimit": 2048000,
      "rowLimit": 10000
     },
     "inputWidgets": {},
     "nuid": "ec13ab28-2674-4f82-a1e3-fb80f91b9ce1",
     "showTitle": false,
     "tableResultSettingsMap": {},
     "title": ""
    }
   },
   "outputs": [],
   "source": [
    "userDF = userDF.withColumn('flag_long_title', length(col('civilitytitle')) > 10)"
   ]
  },
  {
   "cell_type": "code",
   "execution_count": 0,
   "metadata": {
    "application/vnd.databricks.v1+cell": {
     "cellMetadata": {
      "byteLimit": 2048000,
      "rowLimit": 10000
     },
     "inputWidgets": {},
     "nuid": "eaa1678d-30cb-4d82-8d03-4808bf596afa",
     "showTitle": false,
     "tableResultSettingsMap": {},
     "title": ""
    }
   },
   "outputs": [],
   "source": [
    "\n",
    "#casting the datatype into 'Boolean'\n",
    "userDF = userDF.withColumn('hasanyapp', col('hasAnyApp').cast('boolean'))\n",
    "userDF = userDF.withColumn('hasandroidapp', col('hasandroidapp').cast('boolean'))\n",
    "userDF = userDF.withColumn('hasiosapp', col('hasiosApp').cast('boolean'))\n",
    "userDF = userDF.withColumn('hasprofilepicture', col('hasProfilePicture').cast('boolean'))"
   ]
  },
  {
   "cell_type": "code",
   "execution_count": 0,
   "metadata": {
    "application/vnd.databricks.v1+cell": {
     "cellMetadata": {
      "byteLimit": 2048000,
      "rowLimit": 10000
     },
     "inputWidgets": {},
     "nuid": "4535235a-05db-4ef3-bd9e-26dcafb1deaf",
     "showTitle": false,
     "tableResultSettingsMap": {},
     "title": ""
    }
   },
   "outputs": [],
   "source": [
    "#casting the datatype into 'IntergerType'\n",
    "userDF = userDF.withColumn('socialnbfollowers', col('socialnbfollowers').cast(IntegerType()))\n",
    "userDF = userDF.withColumn('socialnbfollows', col('socialnbfollows').cast(IntegerType()))"
   ]
  },
  {
   "cell_type": "code",
   "execution_count": 0,
   "metadata": {
    "application/vnd.databricks.v1+cell": {
     "cellMetadata": {
      "byteLimit": 2048000,
      "rowLimit": 10000
     },
     "inputWidgets": {},
     "nuid": "3febf0fb-1ed5-494b-81cd-8fe211662559",
     "showTitle": false,
     "tableResultSettingsMap": {},
     "title": ""
    }
   },
   "outputs": [],
   "source": [
    "#casting the datatype into 'DecimalType'\n",
    "userDF = userDF.withColumn('productspassrate', col('productspassrate').cast(DecimalType(10,2)))\n",
    "userDF = userDF.withColumn('seniorityasmonths', col('seniorityasmonths').cast(DecimalType(10,2)))\n",
    "userDF = userDF.withColumn('seniorityasyears', col('seniorityasyears').cast(DecimalType(10,2)))"
   ]
  },
  {
   "cell_type": "code",
   "execution_count": 0,
   "metadata": {
    "application/vnd.databricks.v1+cell": {
     "cellMetadata": {
      "byteLimit": 2048000,
      "rowLimit": 10000
     },
     "inputWidgets": {},
     "nuid": "be0f88b4-9ab1-4396-b841-265ef4a9417b",
     "showTitle": false,
     "tableResultSettingsMap": {},
     "title": ""
    }
   },
   "outputs": [],
   "source": [
    "userDF.write.format('delta')\\\n",
    "    .mode('overwrite')\\\n",
    "    .save('/mnt/delta/tables/silver/users')"
   ]
  },
  {
   "cell_type": "code",
   "execution_count": 0,
   "metadata": {
    "application/vnd.databricks.v1+cell": {
     "cellMetadata": {
      "byteLimit": 2048000,
      "rowLimit": 10000
     },
     "inputWidgets": {},
     "nuid": "47ddbc79-2158-415f-bd84-3d073f49c9b0",
     "showTitle": false,
     "tableResultSettingsMap": {},
     "title": ""
    }
   },
   "outputs": [],
   "source": [
    "buyersDF = spark.read.format('delta')\\\n",
    "    .load('/mnt/delta/tables/bronze/buyers')"
   ]
  },
  {
   "cell_type": "code",
   "execution_count": 0,
   "metadata": {
    "application/vnd.databricks.v1+cell": {
     "cellMetadata": {
      "byteLimit": 2048000,
      "rowLimit": 10000
     },
     "inputWidgets": {},
     "nuid": "c45e4d58-dda0-4649-86ed-5b69865f73d6",
     "showTitle": false,
     "tableResultSettingsMap": {},
     "title": ""
    }
   },
   "outputs": [],
   "source": [
    "#casting Integer columns\n",
    "\n",
    "integer_columns = ['buyers','topbuyers','femalebuyers','malebuyers',\n",
    "                   'topfemalebuyers','topmalebuyers','totalproductsbought','totalproductswished','totalproductsliked','toptotalproductsbought','toptotalproductswished','toptotalproductsliked']\n",
    "                \n",
    "for column_name in integer_columns:\n",
    "    buyersDF = buyersDF.withColumn(column_name, col(column_name).cast(IntegerType()))"
   ]
  },
  {
   "cell_type": "code",
   "execution_count": 0,
   "metadata": {
    "application/vnd.databricks.v1+cell": {
     "cellMetadata": {
      "byteLimit": 2048000,
      "rowLimit": 10000
     },
     "inputWidgets": {},
     "nuid": "4db23e27-8b7a-4684-87cb-d0e4f70e1bb4",
     "showTitle": false,
     "tableResultSettingsMap": {},
     "title": ""
    }
   },
   "outputs": [],
   "source": [
    "decimal_columns = ['topbuyerratio','femalebuyersratio','topfemalebuyersratio', \n",
    "                   'boughtperwishlistratio','boughtperlikeratio','topboughtperwishlistratio',\n",
    "                   'topboughtperlikeratio','meanproductsbought','meanproductswished',\n",
    "                   'meanproductsliked','topmeanproductsbought','topmeanproductswished',\n",
    "                   'topmeanproductsliked','meanofflinedays','topmeanofflinedays',\n",
    "                   'meanfollowers','meanfollowing','topmeanfollowers','topmeanfollowing'\n",
    "]\n",
    "\n",
    "for column_name in decimal_columns:\n",
    "    buyersDF = buyersDF.withColumn(column_name, col(column_name).cast(DecimalType(10,2)))"
   ]
  },
  {
   "cell_type": "code",
   "execution_count": 0,
   "metadata": {
    "application/vnd.databricks.v1+cell": {
     "cellMetadata": {
      "byteLimit": 2048000,
      "rowLimit": 10000
     },
     "inputWidgets": {},
     "nuid": "1c2010d5-8c27-4157-82b8-7eddf580402e",
     "showTitle": false,
     "tableResultSettingsMap": {},
     "title": ""
    }
   },
   "outputs": [],
   "source": [
    "#Normalize the country names\n",
    "buyersDF = buyersDF.withColumn('country', initcap(col('country')))\n",
    "\n",
    "for col_name in integer_columns:\n",
    "    buyersDF = buyersDF.fillna({col_name:0})\n",
    "\n",
    "#calculate the ratio of female to male buyers\n",
    "buyersDF = buyersDF.withColumn('female_to_male_ratio',\n",
    "                               round((col('femalebuyers')/col('malebuyers') + 1 ),2))\n",
    "                            \n",
    "#Determine the market potential by comparing wishlist and purchases \n",
    "buyersDF = buyersDF.withColumn(\"wishlist_to_purchase_ratio\",\n",
    "                               round(col(\"totalproductswished\")/ (col(\"totalproductsbought\") + 1),2))\n",
    "\n",
    "#tag countries with high engagement ratio\n",
    "high_engagement_treshhold = 0.5\n",
    "buyersDF = buyersDF.withColumn(\"high_engagement\",\n",
    "                               when(col(\"boughtperwishlistratio\") > high_engagement_treshhold, True)\n",
    "                               .otherwise(False))\n",
    "\n",
    "#flag markets with increasing female buyers participation\n",
    "buyersDF = buyersDF.withColumn(\"growing_female_market\",\n",
    "                               when(col(\"femalebuyersratio\") > col(\"topfemalebuyersratio\"), True)\n",
    "                               .otherwise(False))"
   ]
  },
  {
   "cell_type": "code",
   "execution_count": 0,
   "metadata": {
    "application/vnd.databricks.v1+cell": {
     "cellMetadata": {
      "byteLimit": 2048000,
      "rowLimit": 10000
     },
     "inputWidgets": {},
     "nuid": "ebd258de-e79e-4eb9-b64f-18b8d02d2f66",
     "showTitle": false,
     "tableResultSettingsMap": {},
     "title": ""
    }
   },
   "outputs": [],
   "source": [
    "buyersDF.write.format('delta')\\\n",
    "    .mode('overwrite')\\\n",
    "    .save('/mnt/delta/tables/silver/buyers')"
   ]
  },
  {
   "cell_type": "code",
   "execution_count": 0,
   "metadata": {
    "application/vnd.databricks.v1+cell": {
     "cellMetadata": {
      "byteLimit": 2048000,
      "rowLimit": 10000
     },
     "inputWidgets": {},
     "nuid": "af661335-9743-4f8e-8655-3374cb5f128b",
     "showTitle": false,
     "tableResultSettingsMap": {},
     "title": ""
    }
   },
   "outputs": [],
   "source": [
    "sellersDF = spark.read.format(\"delta\").load(\"/mnt/delta/tables/bronze/sellers\")"
   ]
  },
  {
   "cell_type": "code",
   "execution_count": 0,
   "metadata": {
    "application/vnd.databricks.v1+cell": {
     "cellMetadata": {
      "byteLimit": 2048000,
      "rowLimit": 10000
     },
     "inputWidgets": {},
     "nuid": "b345db5f-8339-4d9c-924c-98f5a4bf41fc",
     "showTitle": false,
     "tableResultSettingsMap": {},
     "title": ""
    }
   },
   "outputs": [],
   "source": [
    "#casting integer columns \n",
    "\n",
    "seller_Integer_columns = ['nbsellers','totalproductssold','totalproductslisted',\n",
    "                   'totalbought','totalwished','totalproductsliked']\n",
    "\n",
    "for column_name_sellers in seller_Integer_columns:\n",
    "    sellersDF =  sellersDF.withColumn(column_name_sellers, sellersDF[column_name_sellers].cast('int'))\n"
   ]
  },
  {
   "cell_type": "code",
   "execution_count": 0,
   "metadata": {
    "application/vnd.databricks.v1+cell": {
     "cellMetadata": {
      "byteLimit": 2048000,
      "rowLimit": 10000
     },
     "inputWidgets": {},
     "nuid": "e4effba2-00d6-4c8b-a878-8b53b4ae5abf",
     "showTitle": false,
     "tableResultSettingsMap": {},
     "title": ""
    }
   },
   "outputs": [],
   "source": [
    "#casting decimal columns \n",
    "seller_decimal_columns = ['meanproductssold','meanproductslisted','meansellerpassrate','meanproductsbought',\n",
    "                          'meanproductswished','meanproductsliked','meanfollowers','meanfollows',\n",
    "                          'percentofappusers','percentofiosusers','meanseniority']\n",
    "\n",
    "for column_name_sellers in seller_decimal_columns:\n",
    "    sellersDF =  sellersDF.withColumn(column_name_sellers, sellersDF[column_name_sellers].cast('decimal(10,2)'))"
   ]
  },
  {
   "cell_type": "code",
   "execution_count": 0,
   "metadata": {
    "application/vnd.databricks.v1+cell": {
     "cellMetadata": {
      "byteLimit": 2048000,
      "rowLimit": 10000
     },
     "inputWidgets": {},
     "nuid": "822fc402-3dbb-44e2-9cd3-0426c00846ad",
     "showTitle": false,
     "tableResultSettingsMap": {},
     "title": ""
    }
   },
   "outputs": [
    {
     "output_type": "stream",
     "name": "stdout",
     "output_type": "stream",
     "text": [
      "root\n |-- country: string (nullable = true)\n |-- sex: string (nullable = true)\n |-- nbsellers: integer (nullable = true)\n |-- meanproductssold: decimal(10,2) (nullable = true)\n |-- meanproductslisted: decimal(10,2) (nullable = true)\n |-- meansellerpassrate: decimal(10,2) (nullable = true)\n |-- totalproductssold: integer (nullable = true)\n |-- totalproductslisted: integer (nullable = true)\n |-- meanproductsbought: decimal(10,2) (nullable = true)\n |-- meanproductswished: decimal(10,2) (nullable = true)\n |-- meanproductsliked: decimal(10,2) (nullable = true)\n |-- totalbought: integer (nullable = true)\n |-- totalwished: integer (nullable = true)\n |-- totalproductsliked: integer (nullable = true)\n |-- meanfollowers: decimal(10,2) (nullable = true)\n |-- meanfollows: decimal(10,2) (nullable = true)\n |-- percentofappusers: decimal(10,2) (nullable = true)\n |-- percentofiosusers: decimal(10,2) (nullable = true)\n |-- meanseniority: decimal(10,2) (nullable = true)\n\n"
     ]
    }
   ],
   "source": [
    "sellersDF.printSchema()"
   ]
  },
  {
   "cell_type": "code",
   "execution_count": 0,
   "metadata": {
    "application/vnd.databricks.v1+cell": {
     "cellMetadata": {
      "byteLimit": 2048000,
      "rowLimit": 10000
     },
     "inputWidgets": {},
     "nuid": "05c589ad-1732-43c2-ba2c-21bb37457148",
     "showTitle": false,
     "tableResultSettingsMap": {},
     "title": ""
    }
   },
   "outputs": [],
   "source": [
    "#Normalizing the country names with gender values \n",
    "sellersDF = sellersDF.withColumn('country', initcap(col('country')))\\\n",
    "                        .withColumn('sex', upper(col('sex')))\n",
    "\n",
    "#add a column to categorize the number of sellers\n",
    "sellersDF = sellersDF.withColumn('seller_size_category',\n",
    "                               when(col('nbsellers') < 500, 'Small') \\\n",
    "                                   .when((col('nbsellers') >= 500) & (col('nbsellers') < 2000), 'Medium') \\\n",
    "                                       .otherwise('Large'))\n",
    "\n",
    "#calculate the mean products listed per seller as an indicator of seller activity\n",
    "sellersDF = sellersDF.withColumn('mean_products_listed_per_seller',\n",
    "                                round(col('totalproductslisted') / col('nbsellers'), 2))\n",
    "\n",
    "#identify markets with high seller pass rate \n",
    "sellersDF = sellersDF.withColumn('high_pass_rate',\n",
    "                               when(col('meansellerpassrate') > 0.75, 'High')\\\n",
    "                                   .otherwise('Normal'))\n",
    "\n",
    "mean_pass_rate = sellersDF.select(round(avg('meansellerpassrate'),2).alias('avg_pass_rate')).collect()[0]['avg_pass_rate']\n",
    "\n",
    "sellersDF = sellersDF.withColumn('meansellerpassrate',\n",
    "                               when(col('meansellerpassrate').isNull(),mean_pass_rate)\n",
    "                               .otherwise(col('meansellerpassrate')))\n",
    "\n",
    "                "
   ]
  },
  {
   "cell_type": "code",
   "execution_count": 0,
   "metadata": {
    "application/vnd.databricks.v1+cell": {
     "cellMetadata": {
      "byteLimit": 2048000,
      "rowLimit": 10000
     },
     "inputWidgets": {},
     "nuid": "d929b685-5216-4ac0-9054-ed100ae1c0ee",
     "showTitle": false,
     "tableResultSettingsMap": {},
     "title": ""
    }
   },
   "outputs": [
    {
     "output_type": "stream",
     "name": "stdout",
     "output_type": "stream",
     "text": [
      "root\n |-- country: string (nullable = true)\n |-- sex: string (nullable = true)\n |-- nbsellers: integer (nullable = true)\n |-- meanproductssold: decimal(10,2) (nullable = true)\n |-- meanproductslisted: decimal(10,2) (nullable = true)\n |-- meansellerpassrate: decimal(10,2) (nullable = true)\n |-- totalproductssold: integer (nullable = true)\n |-- totalproductslisted: integer (nullable = true)\n |-- meanproductsbought: decimal(10,2) (nullable = true)\n |-- meanproductswished: decimal(10,2) (nullable = true)\n |-- meanproductsliked: decimal(10,2) (nullable = true)\n |-- totalbought: integer (nullable = true)\n |-- totalwished: integer (nullable = true)\n |-- totalproductsliked: integer (nullable = true)\n |-- meanfollowers: decimal(10,2) (nullable = true)\n |-- meanfollows: decimal(10,2) (nullable = true)\n |-- percentofappusers: decimal(10,2) (nullable = true)\n |-- percentofiosusers: decimal(10,2) (nullable = true)\n |-- meanseniority: decimal(10,2) (nullable = true)\n |-- seller_size_category: string (nullable = false)\n |-- high_pass_rate: string (nullable = false)\n |-- mean_products_listed_per_seller: double (nullable = true)\n\n"
     ]
    }
   ],
   "source": [
    "sellersDF.printSchema()"
   ]
  },
  {
   "cell_type": "code",
   "execution_count": 0,
   "metadata": {
    "application/vnd.databricks.v1+cell": {
     "cellMetadata": {
      "byteLimit": 2048000,
      "rowLimit": 10000
     },
     "inputWidgets": {},
     "nuid": "c411afd3-e824-49ff-8193-b512bb1983cc",
     "showTitle": false,
     "tableResultSettingsMap": {},
     "title": ""
    }
   },
   "outputs": [],
   "source": [
    "sellersDF.write.format('delta')\\\n",
    "    .mode('overwrite')\\\n",
    "    .save('/mnt/delta/tables/silver/sellers')"
   ]
  },
  {
   "cell_type": "code",
   "execution_count": 0,
   "metadata": {
    "application/vnd.databricks.v1+cell": {
     "cellMetadata": {
      "byteLimit": 2048000,
      "rowLimit": 10000
     },
     "inputWidgets": {},
     "nuid": "dd5d38d7-9f71-43b7-8c59-0b3f33ca91b4",
     "showTitle": false,
     "tableResultSettingsMap": {},
     "title": ""
    }
   },
   "outputs": [],
   "source": [
    "countriesDF = spark.read.format(\"delta\").load(\"/mnt/delta/tables/bronze/countries\")"
   ]
  },
  {
   "cell_type": "code",
   "execution_count": 0,
   "metadata": {
    "application/vnd.databricks.v1+cell": {
     "cellMetadata": {
      "byteLimit": 2048000,
      "rowLimit": 10000
     },
     "inputWidgets": {},
     "nuid": "0533a30f-4360-448d-bbc2-45eee8ddab83",
     "showTitle": false,
     "tableResultSettingsMap": {},
     "title": ""
    }
   },
   "outputs": [],
   "source": [
    "countriesDF = countriesDF \\\n",
    "    .withColumn(\"sellers\", col(\"sellers\").cast(IntegerType())) \\\n",
    "    .withColumn(\"topsellers\", col(\"topsellers\").cast(IntegerType())) \\\n",
    "    .withColumn(\"topsellerratio\", col(\"topsellerratio\").cast(DecimalType(10, 2))) \\\n",
    "    .withColumn(\"femalesellersratio\", col(\"femalesellersratio\").cast(DecimalType(10, 2))) \\\n",
    "    .withColumn(\"topfemalesellersratio\", col(\"topfemalesellersratio\").cast(DecimalType(10, 2))) \\\n",
    "    .withColumn(\"femalesellers\", col(\"femalesellers\").cast(IntegerType())) \\\n",
    "    .withColumn(\"malesellers\", col(\"malesellers\").cast(IntegerType())) \\\n",
    "    .withColumn(\"topfemalesellers\", col(\"topfemalesellers\").cast(IntegerType())) \\\n",
    "    .withColumn(\"topmalesellers\", col(\"topmalesellers\").cast(IntegerType())) \\\n",
    "    .withColumn(\"countrysoldratio\", col(\"countrysoldratio\").cast(DecimalType(10, 2))) \\\n",
    "    .withColumn(\"bestsoldratio\", col(\"bestsoldratio\").cast(DecimalType(10, 2))) \\\n",
    "    .withColumn(\"toptotalproductssold\", col(\"toptotalproductssold\").cast(IntegerType())) \\\n",
    "    .withColumn(\"totalproductssold\", col(\"totalproductssold\").cast(IntegerType())) \\\n",
    "    .withColumn(\"toptotalproductslisted\", col(\"toptotalproductslisted\").cast(IntegerType())) \\\n",
    "    .withColumn(\"totalproductslisted\", col(\"totalproductslisted\").cast(IntegerType())) \\\n",
    "    .withColumn(\"topmeanproductssold\", col(\"topmeanproductssold\").cast(DecimalType(10, 2))) \\\n",
    "    .withColumn(\"topmeanproductslisted\", col(\"topmeanproductslisted\").cast(DecimalType(10, 2))) \\\n",
    "    .withColumn(\"meanproductssold\", col(\"meanproductssold\").cast(DecimalType(10, 2))) \\\n",
    "    .withColumn(\"meanproductslisted\", col(\"meanproductslisted\").cast(DecimalType(10, 2))) \\\n",
    "    .withColumn(\"meanofflinedays\", col(\"meanofflinedays\").cast(DecimalType(10, 2))) \\\n",
    "    .withColumn(\"topmeanofflinedays\", col(\"topmeanofflinedays\").cast(DecimalType(10, 2))) \\\n",
    "    .withColumn(\"meanfollowers\", col(\"meanfollowers\").cast(DecimalType(10, 2))) \\\n",
    "    .withColumn(\"meanfollowing\", col(\"meanfollowing\").cast(DecimalType(10, 2))) \\\n",
    "    .withColumn(\"topmeanfollowers\", col(\"topmeanfollowers\").cast(DecimalType(10, 2))) \\\n",
    "    .withColumn(\"topmeanfollowing\", col(\"topmeanfollowing\").cast(DecimalType(10, 2)))"
   ]
  },
  {
   "cell_type": "code",
   "execution_count": 0,
   "metadata": {
    "application/vnd.databricks.v1+cell": {
     "cellMetadata": {
      "byteLimit": 2048000,
      "rowLimit": 10000
     },
     "inputWidgets": {},
     "nuid": "3a2e0c72-2a33-41d0-90a0-97fb252a1715",
     "showTitle": false,
     "tableResultSettingsMap": {},
     "title": ""
    }
   },
   "outputs": [],
   "source": [
    "#normalizing the country column\n",
    "countriesDF = countriesDF.withColumn(\"country\", initcap(col(\"country\")))\n",
    "\n",
    "# Calculating the ratio of top sellers to total sellers\n",
    "countriesDF = countriesDF.withColumn(\"top_seller_ratio\", \n",
    "                                        round(col(\"topsellers\") / col(\"sellers\"), 2))\n",
    "\n",
    "# countriesDF countries with a high ratio of female sellers\n",
    "countriesDF = countriesDF.withColumn(\"high_female_seller_ratio\", \n",
    "                                        when(col(\"femalesellersratio\") > 0.5, True).otherwise(False))\n",
    "\n",
    "\n",
    "# Adding a performance indicator based on the sold/listed ratio\n",
    "countriesDF = countriesDF.withColumn(\"performance_indicator\", \n",
    "                                        round(col(\"toptotalproductssold\") / (col(\"toptotalproductslisted\") + 1), 2))\n",
    "\n",
    "# Flag countries with exceptionally high performance\n",
    "performance_threshold = 0.8\n",
    "countriesDF = countriesDF.withColumn(\"high_performance\", \n",
    "                                        when(col(\"performance_indicator\") > performance_threshold, True).otherwise(False))\n",
    "\n",
    "countriesDF = countriesDF.withColumn(\"activity_level\",\n",
    "                                       when(col(\"meanofflinedays\") < 30, \"Highly Active\")\n",
    "                                       .when((col(\"meanofflinedays\") >= 30) & (col(\"meanofflinedays\") < 60), \"Moderately Active\")\n",
    "                                       .otherwise(\"Low Activity\"))\n",
    "\n"
   ]
  },
  {
   "cell_type": "code",
   "execution_count": 0,
   "metadata": {
    "application/vnd.databricks.v1+cell": {
     "cellMetadata": {
      "byteLimit": 2048000,
      "rowLimit": 10000
     },
     "inputWidgets": {},
     "nuid": "3ea65d80-abee-4338-b347-4412707f9680",
     "showTitle": false,
     "tableResultSettingsMap": {},
     "title": ""
    }
   },
   "outputs": [],
   "source": [
    "countriesDF.write.format(\"delta\").mode(\"overwrite\").save(\"/mnt/delta/tables/silver/countries\")"
   ]
  },
  {
   "cell_type": "code",
   "execution_count": 0,
   "metadata": {
    "application/vnd.databricks.v1+cell": {
     "cellMetadata": {},
     "inputWidgets": {},
     "nuid": "af9cf6a4-2e84-4d93-8bdd-f8af58754295",
     "showTitle": false,
     "tableResultSettingsMap": {},
     "title": ""
    }
   },
   "outputs": [],
   "source": []
  }
 ],
 "metadata": {
  "application/vnd.databricks.v1+notebook": {
   "computePreferences": null,
   "dashboards": [],
   "environmentMetadata": {
    "base_environment": "",
    "client": "1"
   },
   "language": "python",
   "notebookMetadata": {
    "pythonIndentUnit": 4
   },
   "notebookName": "Silver_Layer",
   "widgets": {}
  },
  "language_info": {
   "name": "python"
  }
 },
 "nbformat": 4,
 "nbformat_minor": 0
}